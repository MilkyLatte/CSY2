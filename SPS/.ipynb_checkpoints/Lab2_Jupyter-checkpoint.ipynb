{
 "cells": [
  {
   "cell_type": "markdown",
   "metadata": {},
   "source": [
    "# COMS21202: Symbols, Patterns and Signals #\n",
    "# Lab 2:<br> Introduction to Python and Jupyter Notebooks with Python Kernel Part II #\n",
    "\n",
    "---\n",
    "Tip: You will need to refer to the help pages to complete most of these examples."
   ]
  },
  {
   "cell_type": "code",
   "execution_count": 86,
   "metadata": {
    "collapsed": true
   },
   "outputs": [],
   "source": [
    "import numpy as np\n",
    "from scipy import stats\n",
    "from skimage import data, io, color, transform, exposure\n",
    "from pprint import pprint\n",
    "import matplotlib.pyplot as plt\n",
    "from mpl_toolkits.mplot3d import Axes3D\n",
    "from __future__ import print_function\n",
    "\n",
    "%matplotlib inline\n",
    "# notebook\n",
    "import matplotlib.pylab as pylab\n",
    "pylab.rcParams['figure.figsize'] = (32.0, 24.0)\n",
    "pylab.rcParams['font.size'] = 24"
   ]
  },
  {
   "cell_type": "markdown",
   "metadata": {},
   "source": [
    "## 1. Functions ##\n",
    "Create a function called 'testNormal' that generates a *random sequence* of 10000 numbers from $N(0, 1)$ and returns the *mean* and *var* of the sequence.  \n",
    "Call the function multiple times and observe the output.\n",
    "\n",
    "---\n",
    "Hint: use `def functionName():` to define a function in Python. Remember to indent the statements in the function."
   ]
  },
  {
   "cell_type": "code",
   "execution_count": 72,
   "metadata": {},
   "outputs": [
    {
     "name": "stdout",
     "output_type": "stream",
     "text": [
      "mean = 0.496437154835\n",
      "var = 0.0840213824186\n"
     ]
    }
   ],
   "source": [
    "def meanVar():\n",
    "    a = np.random.rand(10000)\n",
    "    print(\"mean = \" + str(np.mean(a)))\n",
    "    print(\"var = \" + str(np.var(a)))\n",
    "meanVar()\n",
    "\n"
   ]
  },
  {
   "cell_type": "markdown",
   "metadata": {},
   "source": [
    "## 2. 2D Normal Distribution ##\n",
    "For a 2D normal distribution $N(\\mathbf{\\mu},\\mathbf{C})$:\n",
    "\n",
    "$$\n",
    "\\mathbf{\\mu}=\\left [ \\begin{array}{c}2\\\\2\\end{array}\\right ] \\;\\;\\;\\;\\;\n",
    "\\mathbf{C}=\\left [ \\begin{array}{cc}4& 2\\\\2& 6\\end{array}\\right ] \n",
    "$$\n",
    "\n",
    "Estimate the probability that the data members $x_1 = (1, 2)$, $x_2 = (2,8)$, $x_3 = (5,4)$ are sampled from this distribution \n",
    "\n",
    "---\n",
    "Hint: use `stats.multivariate_normal.pdf`"
   ]
  },
  {
   "cell_type": "code",
   "execution_count": 227,
   "metadata": {},
   "outputs": [
    {
     "name": "stdout",
     "output_type": "stream",
     "text": [
      "[[2 2]]\n",
      "[[2]\n",
      " [8]]\n"
     ]
    },
    {
     "ename": "ValueError",
     "evalue": "Array 'mean' must be a vector of length 2.",
     "output_type": "error",
     "traceback": [
      "\u001b[1;31m---------------------------------------------------------------------------\u001b[0m",
      "\u001b[1;31mValueError\u001b[0m                                Traceback (most recent call last)",
      "\u001b[1;32m<ipython-input-227-82d5df3f36bc>\u001b[0m in \u001b[0;36m<module>\u001b[1;34m()\u001b[0m\n\u001b[0;32m      6\u001b[0m \u001b[0mprint\u001b[0m\u001b[1;33m(\u001b[0m\u001b[0mx1\u001b[0m\u001b[1;33m)\u001b[0m\u001b[1;33m\u001b[0m\u001b[0m\n\u001b[0;32m      7\u001b[0m \u001b[1;33m\u001b[0m\u001b[0m\n\u001b[1;32m----> 8\u001b[1;33m \u001b[0mstats\u001b[0m\u001b[1;33m.\u001b[0m\u001b[0mmultivariate_normal\u001b[0m\u001b[1;33m.\u001b[0m\u001b[0mpdf\u001b[0m\u001b[1;33m(\u001b[0m\u001b[0mx1\u001b[0m\u001b[1;33m,\u001b[0m \u001b[1;33m[\u001b[0m\u001b[1;33m[\u001b[0m\u001b[1;36m2\u001b[0m\u001b[1;33m]\u001b[0m\u001b[1;33m,\u001b[0m\u001b[1;33m[\u001b[0m\u001b[1;36m2\u001b[0m\u001b[1;33m]\u001b[0m\u001b[1;33m]\u001b[0m\u001b[1;33m,\u001b[0m \u001b[0mcov\u001b[0m \u001b[1;33m=\u001b[0m \u001b[0mC\u001b[0m\u001b[1;33m)\u001b[0m\u001b[1;33m\u001b[0m\u001b[0m\n\u001b[0m\u001b[0;32m      9\u001b[0m \u001b[1;33m\u001b[0m\u001b[0m\n\u001b[0;32m     10\u001b[0m \u001b[1;33m\u001b[0m\u001b[0m\n",
      "\u001b[1;32m~\\Anaconda3\\lib\\site-packages\\scipy\\stats\\_multivariate.py\u001b[0m in \u001b[0;36mpdf\u001b[1;34m(self, x, mean, cov, allow_singular)\u001b[0m\n\u001b[0;32m    502\u001b[0m \u001b[1;33m\u001b[0m\u001b[0m\n\u001b[0;32m    503\u001b[0m         \"\"\"\n\u001b[1;32m--> 504\u001b[1;33m         \u001b[0mdim\u001b[0m\u001b[1;33m,\u001b[0m \u001b[0mmean\u001b[0m\u001b[1;33m,\u001b[0m \u001b[0mcov\u001b[0m \u001b[1;33m=\u001b[0m \u001b[0mself\u001b[0m\u001b[1;33m.\u001b[0m\u001b[0m_process_parameters\u001b[0m\u001b[1;33m(\u001b[0m\u001b[1;32mNone\u001b[0m\u001b[1;33m,\u001b[0m \u001b[0mmean\u001b[0m\u001b[1;33m,\u001b[0m \u001b[0mcov\u001b[0m\u001b[1;33m)\u001b[0m\u001b[1;33m\u001b[0m\u001b[0m\n\u001b[0m\u001b[0;32m    505\u001b[0m         \u001b[0mx\u001b[0m \u001b[1;33m=\u001b[0m \u001b[0mself\u001b[0m\u001b[1;33m.\u001b[0m\u001b[0m_process_quantiles\u001b[0m\u001b[1;33m(\u001b[0m\u001b[0mx\u001b[0m\u001b[1;33m,\u001b[0m \u001b[0mdim\u001b[0m\u001b[1;33m)\u001b[0m\u001b[1;33m\u001b[0m\u001b[0m\n\u001b[0;32m    506\u001b[0m         \u001b[0mpsd\u001b[0m \u001b[1;33m=\u001b[0m \u001b[0m_PSD\u001b[0m\u001b[1;33m(\u001b[0m\u001b[0mcov\u001b[0m\u001b[1;33m,\u001b[0m \u001b[0mallow_singular\u001b[0m\u001b[1;33m=\u001b[0m\u001b[0mallow_singular\u001b[0m\u001b[1;33m)\u001b[0m\u001b[1;33m\u001b[0m\u001b[0m\n",
      "\u001b[1;32m~\\Anaconda3\\lib\\site-packages\\scipy\\stats\\_multivariate.py\u001b[0m in \u001b[0;36m_process_parameters\u001b[1;34m(self, dim, mean, cov)\u001b[0m\n\u001b[0;32m    390\u001b[0m \u001b[1;33m\u001b[0m\u001b[0m\n\u001b[0;32m    391\u001b[0m         \u001b[1;32mif\u001b[0m \u001b[0mmean\u001b[0m\u001b[1;33m.\u001b[0m\u001b[0mndim\u001b[0m \u001b[1;33m!=\u001b[0m \u001b[1;36m1\u001b[0m \u001b[1;32mor\u001b[0m \u001b[0mmean\u001b[0m\u001b[1;33m.\u001b[0m\u001b[0mshape\u001b[0m\u001b[1;33m[\u001b[0m\u001b[1;36m0\u001b[0m\u001b[1;33m]\u001b[0m \u001b[1;33m!=\u001b[0m \u001b[0mdim\u001b[0m\u001b[1;33m:\u001b[0m\u001b[1;33m\u001b[0m\u001b[0m\n\u001b[1;32m--> 392\u001b[1;33m             \u001b[1;32mraise\u001b[0m \u001b[0mValueError\u001b[0m\u001b[1;33m(\u001b[0m\u001b[1;34m\"Array 'mean' must be a vector of length %d.\"\u001b[0m \u001b[1;33m%\u001b[0m \u001b[0mdim\u001b[0m\u001b[1;33m)\u001b[0m\u001b[1;33m\u001b[0m\u001b[0m\n\u001b[0m\u001b[0;32m    393\u001b[0m         \u001b[1;32mif\u001b[0m \u001b[0mcov\u001b[0m\u001b[1;33m.\u001b[0m\u001b[0mndim\u001b[0m \u001b[1;33m==\u001b[0m \u001b[1;36m0\u001b[0m\u001b[1;33m:\u001b[0m\u001b[1;33m\u001b[0m\u001b[0m\n\u001b[0;32m    394\u001b[0m             \u001b[0mcov\u001b[0m \u001b[1;33m=\u001b[0m \u001b[0mcov\u001b[0m \u001b[1;33m*\u001b[0m \u001b[0mnp\u001b[0m\u001b[1;33m.\u001b[0m\u001b[0meye\u001b[0m\u001b[1;33m(\u001b[0m\u001b[0mdim\u001b[0m\u001b[1;33m)\u001b[0m\u001b[1;33m\u001b[0m\u001b[0m\n",
      "\u001b[1;31mValueError\u001b[0m: Array 'mean' must be a vector of length 2."
     ]
    }
   ],
   "source": [
    "mean = np.matrix([2],[2])\n",
    "x1 = np.matrix([[2],[8]])\n",
    "C = np.matrix([[4,2],[2,6]])\n",
    "\n",
    "print(x)\n",
    "print(x1)\n",
    "\n",
    "stats.multivariate_normal.pdf(x1, [[2],[2]], cov = C)\n",
    "\n",
    "                \n",
    "                \n",
    "                \n"
   ]
  },
  {
   "cell_type": "markdown",
   "metadata": {},
   "source": [
    "## 3. Random Vectors ##\n",
    "\n",
    "Generate a sequence of 100 random vectors from the distribution above.\n",
    "\n",
    "---\n",
    "Hint: use the command `stats.multivariate_normal.rvs`\n",
    "\n",
    "Generate a scatter plot of the sequence using the command `plt.scatter`. \n",
    "\n",
    "Compute the mean and covariance for the sequence using the commands `np.mean` (consider `axis` parameter) and `np.cov` (consider `rowvar` parameter)."
   ]
  },
  {
   "cell_type": "markdown",
   "metadata": {},
   "source": [
    "### Increase the sample size ###\n",
    "\n",
    "Now, Increase the length of the sequence to 4000. Plot the new data and compute the new mean and covariance."
   ]
  },
  {
   "cell_type": "markdown",
   "metadata": {},
   "source": [
    "### Conclusions? ###\n",
    "\n",
    "Discuss with your lab partner and write down your conclusion in a `Markup` cell.\n"
   ]
  },
  {
   "cell_type": "markdown",
   "metadata": {},
   "source": [
    "## 4. Matrix Inverse ##\n",
    "\n",
    "**a) **Create a function that takes a matrix and returns its inverse.\n",
    "\n",
    "Do not use a built-in function for this exercise.\n",
    "\n",
    "The inverse of the matrix\n",
    "$$\n",
    "\\vec{A}=\\left [ \\begin{array}{cc}\n",
    "    a & b \\\\\n",
    "    b & c\\end{array}\\right ]\n",
    "$$\n",
    "\n",
    "is\n",
    "\n",
    "$$\n",
    "\\vec{A}^{-1}=\n",
    "    \\frac{1}{ac-b^2} \\left [ \\begin{array}{cc}\n",
    "        c & -b \\\\\n",
    "        -b & a\\end{array}\\right ]\n",
    "$$"
   ]
  },
  {
   "cell_type": "markdown",
   "metadata": {},
   "source": [
    "**b) **Call the function from the command line with different matrix configurations.\n",
    "\n",
    "Are there any conditions that you need to check for and include in your function?"
   ]
  },
  {
   "cell_type": "markdown",
   "metadata": {},
   "source": [
    "**c) **Compare the results of your function with the built-in function `np.linalg.inv`."
   ]
  },
  {
   "cell_type": "markdown",
   "metadata": {},
   "source": [
    "## 5. Debugging ##\n",
    "Learn how to debug your code - magic function `%debug`. Remember that you can also check the values of your variables by printing them at any time.\n",
    "\n",
    "Read [here](https://ipython.org/ipython-doc/1/interactive/tutorial.html#debugging) for details."
   ]
  },
  {
   "cell_type": "markdown",
   "metadata": {},
   "source": [
    "## 6. Image loading ##\n",
    "**a) **Load the image `flower.png` using the command `io.imread` and display the image using the command `io.imshow`."
   ]
  },
  {
   "cell_type": "markdown",
   "metadata": {},
   "source": [
    "**b) **Check the size of the image matrix."
   ]
  },
  {
   "cell_type": "markdown",
   "metadata": {},
   "source": [
    "### Discussion ###\n",
    "\n",
    "Discuss with your lab partner what this size stands for and write down your conclusions into a `Markup` cell. Check with a lab assistant if you are not sure."
   ]
  },
  {
   "cell_type": "markdown",
   "metadata": {},
   "source": [
    "**c) **Convert the image to black and white using the command `color.rgb2gray`. Check the new image size and write down your conclusions into a `Markup` cell.\n",
    "\n",
    "**d) **change the size of the image to half its current size using the command `transform.resize`."
   ]
  },
  {
   "cell_type": "markdown",
   "metadata": {},
   "source": [
    "## 7. Image Interpretation ##\n",
    "**a) **Calculate the histogram of your image's pixel values using the command `exposure.histogram` and than plot it with `imhist`. You can use the function `imhist` defined in the code cell below."
   ]
  },
  {
   "cell_type": "code",
   "execution_count": 3,
   "metadata": {
    "collapsed": true
   },
   "outputs": [],
   "source": [
    "def imhist(img_hist):\n",
    "    fig = plt.figure()\n",
    "    ax = fig.add_subplot( 111 )\n",
    "    ax.bar( range(256), img_hist[0], width=1 )\n",
    "    ax.set_xlim(0, 256)\n",
    "    plt.show()"
   ]
  },
  {
   "cell_type": "markdown",
   "metadata": {},
   "source": [
    "**b) **Use the command `exposure.equalize_hist` to change the image. Plot the new image histogram and display the new image.\n",
    "\n",
    "Study the resulting image and the histogram. Understand the effect of this command on the image quantitatively and qualitatively. Write down your conclusions into a `Markup` cell"
   ]
  }
 ],
 "metadata": {
  "kernelspec": {
   "display_name": "Python 3",
   "language": "python",
   "name": "python3"
  },
  "language_info": {
   "codemirror_mode": {
    "name": "ipython",
    "version": 3
   },
   "file_extension": ".py",
   "mimetype": "text/x-python",
   "name": "python",
   "nbconvert_exporter": "python",
   "pygments_lexer": "ipython3",
   "version": "3.6.3"
  }
 },
 "nbformat": 4,
 "nbformat_minor": 1
}
